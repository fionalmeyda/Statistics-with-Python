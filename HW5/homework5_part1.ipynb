{
 "cells": [
  {
   "cell_type": "code",
   "execution_count": 20,
   "metadata": {},
   "outputs": [],
   "source": [
    "import numpy as np\n",
    "import matplotlib.pyplot as plt\n",
    "import sklearn as sk\n",
    "import sklearn.linear_model\n",
    "import string\n",
    "#import pandas to load csv data \n",
    "import pandas as pd\n",
    "import torch"
   ]
  },
  {
   "cell_type": "code",
   "execution_count": 21,
   "metadata": {},
   "outputs": [],
   "source": [
    "data_dir = \"/Users/fionalmeyda/Desktop/homework5_MATH/\"\n",
    "df_train = pd.read_csv(data_dir + \"mnist_train.csv\")\n",
    "df_test = pd.read_csv(data_dir + \"mnist_test.csv\")"
   ]
  },
  {
   "cell_type": "code",
   "execution_count": 22,
   "metadata": {},
   "outputs": [],
   "source": [
    "class DigitsDataset(torch.utils.data.Dataset):\n",
    "    \n",
    "    def __init__(self,df):\n",
    "        self.df =df\n",
    "        \n",
    "    def __len__(self):\n",
    "        return len(self.df)\n",
    "    \n",
    "    def __getitem__(self,idx):\n",
    "        row = self.df.iloc[idx]\n",
    "        x = np.float32(row[1:].values)/255.0\n",
    "        y =row[0]\n",
    "        return x,y    "
   ]
  },
  {
   "cell_type": "code",
   "execution_count": 23,
   "metadata": {},
   "outputs": [],
   "source": [
    "dataset_train= DigitsDataset(df_train)\n",
    "dataset_test = DigitsDataset(df_test)\n",
    "\n",
    "dataloader_train = torch.utils.data.DataLoader(dataset_train,batch_size=64,shuffle=True)\n",
    "dataloader_test = torch.utils.data.DataLoader(dataset_test,batch_size=64,shuffle=True)"
   ]
  },
  {
   "cell_type": "code",
   "execution_count": 24,
   "metadata": {},
   "outputs": [
    {
     "name": "stdout",
     "output_type": "stream",
     "text": [
      "tensor(6)\n"
     ]
    },
    {
     "data": {
      "image/png": "[encoded data removed]",
      "text/plain": [
       "<Figure size 432x288 with 1 Axes>"
      ]
     },
     "metadata": {
      "needs_background": "light"
     },
     "output_type": "display_data"
    }
   ],
   "source": [
    "X_batch, Y_batch = next(iter(dataloader_train))\n",
    "plt.imshow(np.reshape(X_batch[0],(28,28)))\n",
    "print(Y_batch[0])"
   ]
  },
  {
   "cell_type": "code",
   "execution_count": 25,
   "metadata": {},
   "outputs": [],
   "source": [
    "class SimpleNeuralNetwork(torch.nn.Module):\n",
    "    def __init__(self):\n",
    "        super().__init__()\n",
    "        self.dense1 = torch.nn.Linear(784,100) #specify layers in the neural network\n",
    "        self.dense2 = torch.nn.Linear(100,10)\n",
    "        self.ReLU = torch.nn.ReLU()\n",
    "        #self.Softmax = torch.nn.Softmax(dim=1)\n",
    "        \n",
    "    def forward(self,x):\n",
    "        #this method applies the neural network to a vector x\n",
    "        x = self.dense1(x)\n",
    "        x = self.ReLU(x)\n",
    "        x = self.dense2(x)\n",
    "        #x = self.Softmax(x)\n",
    "        #softmax is combined with the loss function so its not needed \n",
    "        \n",
    "        return x"
   ]
  },
  {
   "cell_type": "code",
   "execution_count": 26,
   "metadata": {},
   "outputs": [],
   "source": [
    "#create a model for the neural network \n",
    "model = SimpleNeuralNetwork()\n",
    "device = torch.device('cpu') #change this line if gpu is available\n",
    "model = model.to(device) #put model on gpu if device is gpu"
   ]
  },
  {
   "cell_type": "code",
   "execution_count": 27,
   "metadata": {},
   "outputs": [],
   "source": [
    "#loss function and optimization algorithm \n",
    "loss_fun = torch.nn.CrossEntropyLoss()\n",
    "optimizer = torch.optim.Adam(model.parameters(),lr = 0.001)\n",
    "#Adam is a variant of stochastic gradient"
   ]
  },
  {
   "cell_type": "code",
   "execution_count": 28,
   "metadata": {},
   "outputs": [],
   "source": [
    "#Training the neural network\n",
    "num_epochs= 10 \n",
    "N_train=len(dataset_train)\n",
    "N_test= len(dataset_test)\n",
    "\n",
    "train_losses = []\n",
    "test_losses = []\n",
    "\n",
    "for ep in range(num_epochs):\n",
    "    model.train() #put model behavior on train mode. this turns on any model behavior that should only occur during training\n",
    "    train_loss = 0.0\n",
    "    batch_idx = 0\n",
    "    \n",
    "    for X_batch,Y_batch in dataloader_train:\n",
    "        \n",
    "        X_batch = X_batch.to(device) #if device is a GPU, this puts the current batch of data on the GPU\n",
    "        Y_batch = Y_batch.to(device)\n",
    "        \n",
    "        N_batch = X_batch.shape[0]\n",
    "        outputs = model(X_batch)\n",
    "        loss_oneBatch = loss_fun(outputs,Y_batch)\n",
    "        \n",
    "        model.zero_grad()\n",
    "        loss_oneBatch.backward() #pytorch computes the gradient for us\n",
    "        optimizer.step() #one iteration of stochastic gradient descent\n",
    "        \n",
    "        train_loss += loss_oneBatch * N_batch\n",
    "        \n",
    "    model.eval() #put model in eval mode. turns off any model behavior that should only occur during training \n",
    "    test_loss = 0.0\n",
    "    for X_batch, Y_batch in dataloader_test:\n",
    "        X_batch = X_batch.to(device)\n",
    "        Y_batch = Y_batch.to(device)\n",
    "        with torch.no_grad(): #tells pytorch that it doesnt need to keep track of gradient info\n",
    "            N_batch =X_batch.shape[0]\n",
    "            outputs = model(X_batch)\n",
    "            loss_oneBatch = loss_fun(outputs,Y_batch)\n",
    "            test_loss += loss_oneBatch * N_batch\n",
    "    train_losses.append(train_loss/N_train)\n",
    "    test_losses.append(test_loss/N_test)\n",
    "    \n",
    "   # print('epoch: ', ep , 'train loss: ', train_loss/N_train, 'validation loss',test_loss/N_test)\n",
    "            \n",
    "        "
   ]
  },
  {
   "cell_type": "code",
   "execution_count": 29,
   "metadata": {},
   "outputs": [
    {
     "data": {
      "text/plain": [
       "Text(0.5, 1.0, 'Objective function value versus epoch')"
      ]
     },
     "execution_count": 29,
     "metadata": {},
     "output_type": "execute_result"
    },
    {
     "data": {
      "image/png": "[encoded data removed]",
      "text/plain": [
       "<Figure size 432x288 with 1 Axes>"
      ]
     },
     "metadata": {
      "needs_background": "light"
     },
     "output_type": "display_data"
    }
   ],
   "source": [
    "plt.plot(train_losses, label ='training loss')\n",
    "plt.plot(test_losses, label = 'validation loss')\n",
    "plt.legend(loc = 'upper right')\n",
    "plt.title('Objective function value versus epoch')\n",
    "#if the validation loss starts increasing, we are overfitting the data"
   ]
  },
  {
   "cell_type": "code",
   "execution_count": 30,
   "metadata": {},
   "outputs": [
    {
     "name": "stdout",
     "output_type": "stream",
     "text": [
      "Accuracy =  tensor(0.9783)\n"
     ]
    }
   ],
   "source": [
    "#computing our prediction accuracy on the validation dataset\n",
    "num_correct = 0\n",
    "model.eval()\n",
    "for X_batch, Y_batch in dataloader_test:\n",
    "    X_batch = X_batch.to(device)\n",
    "    Y_batch = Y_batch.to(device)\n",
    "    \n",
    "    with torch.no_grad(): #tells pytorch that it does not need to keep track of gradient info\n",
    "        outputs = model(X_batch)\n",
    "        num_correct += sum(np.argmax(outputs, axis = 1)== Y_batch)\n",
    "        #the line above countrs how many predicted labels agree with teh ground truth labels\n",
    "print('Accuracy = ' , num_correct/N_test)\n"
   ]
  },
  {
   "cell_type": "code",
   "execution_count": null,
   "metadata": {},
   "outputs": [],
   "source": []
  }
 ],
 "metadata": {
  "kernelspec": {
   "display_name": "Python 3",
   "language": "python",
   "name": "python3"
  },
  "language_info": {
   "codemirror_mode": {
    "name": "ipython",
    "version": 3
   },
   "file_extension": ".py",
   "mimetype": "text/x-python",
   "name": "python",
   "nbconvert_exporter": "python",
   "pygments_lexer": "ipython3",
   "version": "3.8.5"
  }
 },
 "nbformat": 4,
 "nbformat_minor": 4
}
