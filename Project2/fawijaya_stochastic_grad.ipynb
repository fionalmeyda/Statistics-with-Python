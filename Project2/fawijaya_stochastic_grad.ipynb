{
 "cells": [
  {
   "cell_type": "markdown",
   "metadata": {},
   "source": [
    "## Project 2 - Stochastic Gradient Descent (MNIST)"
   ]
  },
  {
   "cell_type": "code",
   "execution_count": 1,
   "metadata": {},
   "outputs": [],
   "source": [
    "import pandas as pd\n",
    "import numpy as np\n",
    "import sklearn as sk\n",
    "import sklearn.datasets\n",
    "import matplotlib.pyplot as plt\n",
    "import tensorflow as tf"
   ]
  },
  {
   "cell_type": "code",
   "execution_count": 2,
   "metadata": {},
   "outputs": [],
   "source": [
    "(X_train, y_train), (X_test, y_test) = tf.keras.datasets.mnist.load_data()"
   ]
  },
  {
   "cell_type": "code",
   "execution_count": 3,
   "metadata": {},
   "outputs": [],
   "source": [
    "X_train=X_train/255\n",
    "X_test =X_test/255\n",
    "\n",
    "#y_test"
   ]
  },
  {
   "cell_type": "code",
   "execution_count": 4,
   "metadata": {},
   "outputs": [],
   "source": [
    "N_train, numRows, numCols = X_train.shape\n",
    "X_train = np.reshape(X_train,(N_train,numRows*numCols))\n",
    "#numRows\n",
    "#X_train"
   ]
  },
  {
   "cell_type": "code",
   "execution_count": 5,
   "metadata": {},
   "outputs": [],
   "source": [
    "y_train = pd.get_dummies(y_train).values\n",
    "#y_train"
   ]
  },
  {
   "cell_type": "code",
   "execution_count": 6,
   "metadata": {},
   "outputs": [],
   "source": [
    "def softmax_function(k):\n",
    "    return np.exp(k) / np.sum(np.exp(k),axis=0)\n",
    "\n",
    "def cross_entropy_multi(p,q):\n",
    "    return -np.vdot(p,np.log(q))\n",
    "\n",
    "def L(beta,X,y):\n",
    "    N = X.shape[0]\n",
    "    out = 0\n",
    "    for i in range(N):\n",
    "        xiHat = X[i]\n",
    "        yi = y[i]\n",
    "        yi_pred = softmax_function(beta@xiHat) #s(u)\n",
    "        out += cross_entropy_multi(yi,yi_pred)\n",
    "    return out / N"
   ]
  },
  {
   "cell_type": "code",
   "execution_count": 7,
   "metadata": {},
   "outputs": [],
   "source": [
    "def stochastic(X,y,size,a,e):\n",
    "    epochs = e\n",
    "    alpha = a\n",
    "    N, d = X.shape\n",
    "    X = np.insert(X,0,1,axis=1) #augmented matrix\n",
    "    K = y.shape[1] \n",
    "    \n",
    "    batch_size = size\n",
    "    \n",
    "    beta = np.zeros((K,d+1))\n",
    "    L_vals = []\n",
    "    \n",
    "    for epoch in range(epochs):\n",
    "        L_val = L(beta,X,y) \n",
    "        L_vals.append(L_val)\n",
    "        \n",
    "        print('epoch  = ' + str(epoch) + ',  Loss = ' + str(L_val))\n",
    "        \n",
    "        prm = np.random.permutation(N)\n",
    "        batch_idx = 0\n",
    "        \n",
    "        for start in range(0,N,batch_size):\n",
    "            \n",
    "            stop = start + batch_size \n",
    "            stop = min(stop, N)\n",
    "            \n",
    "            n_ex = stop - start \n",
    "        \n",
    "            for i in prm[start:stop]:\n",
    "                xiHat = X[i]\n",
    "                yi = y[i]\n",
    "                \n",
    "                yi_pred = softmax_function(beta @ xiHat)\n",
    "                \n",
    "                grad = np.outer(yi_pred - yi, xiHat)\n",
    "\n",
    "            grad = grad / n_ex\n",
    "            beta = beta - alpha*grad \n",
    "            \n",
    "            batch_idx += 1\n",
    "            \n",
    "    \n",
    "    return beta, L_vals\n",
    "    "
   ]
  },
  {
   "cell_type": "code",
   "execution_count": 12,
   "metadata": {},
   "outputs": [
    {
     "name": "stdout",
     "output_type": "stream",
     "text": [
      "epoch  = 0,  Loss = 2.3025850929954172\n",
      "epoch  = 1,  Loss = 0.5760699682092465\n",
      "epoch  = 2,  Loss = 0.46911915077517896\n",
      "epoch  = 3,  Loss = 0.42418265336561345\n",
      "epoch  = 4,  Loss = 0.39907703450878407\n",
      "epoch  = 5,  Loss = 0.3811733931426591\n",
      "epoch  = 6,  Loss = 0.37151246840762214\n",
      "epoch  = 7,  Loss = 0.3592622901300646\n",
      "epoch  = 8,  Loss = 0.35120937815549597\n",
      "epoch  = 9,  Loss = 0.34528312243608666\n",
      "epoch  = 10,  Loss = 0.339179690485083\n",
      "epoch  = 11,  Loss = 0.3351038395721738\n",
      "epoch  = 12,  Loss = 0.3313129726800048\n",
      "epoch  = 13,  Loss = 0.32632697640111236\n",
      "epoch  = 14,  Loss = 0.3233586645040311\n",
      "epoch  = 15,  Loss = 0.3224564439866411\n",
      "epoch  = 16,  Loss = 0.3185968916283271\n",
      "epoch  = 17,  Loss = 0.315699554213495\n",
      "epoch  = 18,  Loss = 0.31493267624108484\n",
      "epoch  = 19,  Loss = 0.31235792867956313\n"
     ]
    }
   ],
   "source": [
    "beta, L_vals = stochastic(X_train,y_train,5,0.005,20)"
   ]
  },
  {
   "cell_type": "code",
   "execution_count": 19,
   "metadata": {},
   "outputs": [
    {
     "data": {
      "text/plain": [
       "Text(0, 0.5, 'Values of Objective Function')"
      ]
     },
     "execution_count": 19,
     "metadata": {},
     "output_type": "execute_result"
    },
    {
     "data": {
      "image/png": "[encoded data removed]",
      "text/plain": [
       "<Figure size 432x288 with 1 Axes>"
      ]
     },
     "metadata": {
      "needs_background": "light"
     },
     "output_type": "display_data"
    }
   ],
   "source": [
    "plt.plot(L_vals, color= \"green\")\n",
    "plt.title(\"Objective Function of Validation set vs.Epoch\")\n",
    "plt.xlabel('Epoch')\n",
    "plt.ylabel('Values of Objective Function')"
   ]
  },
  {
   "cell_type": "code",
   "execution_count": null,
   "metadata": {},
   "outputs": [],
   "source": []
  },
  {
   "cell_type": "code",
   "execution_count": null,
   "metadata": {},
   "outputs": [],
   "source": []
  },
  {
   "cell_type": "code",
   "execution_count": null,
   "metadata": {},
   "outputs": [],
   "source": []
  }
 ],
 "metadata": {
  "kernelspec": {
   "display_name": "Python 3",
   "language": "python",
   "name": "python3"
  },
  "language_info": {
   "codemirror_mode": {
    "name": "ipython",
    "version": 3
   },
   "file_extension": ".py",
   "mimetype": "text/x-python",
   "name": "python",
   "nbconvert_exporter": "python",
   "pygments_lexer": "ipython3",
   "version": "3.8.5"
  }
 },
 "nbformat": 4,
 "nbformat_minor": 4
}
