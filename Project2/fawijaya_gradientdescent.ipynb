{
 "cells": [
  {
   "cell_type": "markdown",
   "metadata": {},
   "source": [
    "## Project 2 - Gradient Descent (IRIS)\n"
   ]
  },
  {
   "cell_type": "code",
   "execution_count": 1,
   "metadata": {},
   "outputs": [],
   "source": [
    "import pandas as pd\n",
    "import numpy as np\n",
    "import matplotlib.pyplot as plt\n",
    "from sklearn.model_selection import train_test_split\n",
    "import seaborn as sns\n",
    "from sklearn import preprocessing\n",
    "from sklearn.datasets import load_iris"
   ]
  },
  {
   "cell_type": "code",
   "execution_count": 2,
   "metadata": {},
   "outputs": [],
   "source": [
    "iris = load_iris() #Loading the diabetes dataset\n",
    "data = iris.data \n",
    "target = iris.target\n",
    "length = len(iris.feature_names)\n",
    "N = len(target)\n",
    "unique_N = len(np.unique(target))\n",
    "\n",
    "#one hot\n",
    "onehot = np.zeros((N,unique_N))\n",
    "for i in range(N):\n",
    "    j = target[i]\n",
    "    onehot[i,j]=1\n",
    "#unique_N"
   ]
  },
  {
   "cell_type": "code",
   "execution_count": 3,
   "metadata": {},
   "outputs": [],
   "source": [
    "X_train, X_test, y_train, y_test = train_test_split(data,onehot, test_size=0.2)"
   ]
  },
  {
   "cell_type": "code",
   "execution_count": 4,
   "metadata": {},
   "outputs": [],
   "source": [
    "d = X_train.shape[1] #for beta d+1\n",
    "X_train =(X_train - np.mean(X_train,axis = 0))/ np.std(X_train,axis=0)\n",
    "X_test = (X_test - np.mean(X_train,axis=0)) / np.std(X_train,axis=0)"
   ]
  },
  {
   "cell_type": "code",
   "execution_count": 5,
   "metadata": {},
   "outputs": [],
   "source": [
    "#augmented\n",
    "X_train = np.insert(X_train, 0,1, axis =1)\n",
    "#X_train\n",
    "X_test = np.insert(X_test, 0,1, axis =1)\n",
    "#X_test"
   ]
  },
  {
   "cell_type": "code",
   "execution_count": 6,
   "metadata": {},
   "outputs": [],
   "source": [
    "def softmax_function(k):\n",
    "    return np.exp(k) / np.sum(np.exp(k),axis=0)\n",
    "\n",
    "def cross_entropy_multi(p,q):\n",
    "    return -np.vdot(p,np.log(q))\n",
    "\n",
    "def L(beta,X,y):\n",
    "    N = X.shape[0]\n",
    "    out = 0\n",
    "    for i in range(N):\n",
    "        xiHat = X[i]\n",
    "        yi = y[i]\n",
    "        yi_pred = softmax_function(beta@xiHat) #s(u)\n",
    "        out += cross_entropy_multi(yi,yi_pred)\n",
    "    return out / N\n",
    "\n",
    "def L_grad(beta,X,y):\n",
    "    N=X.shape[0]\n",
    "    grad =0 \n",
    "    for i in range(N):\n",
    "        Xi_hat = X[i]\n",
    "        yi = y[i]\n",
    "        yi_pred = softmax_function(beta@Xi_hat) #s(u)\n",
    "        grad = grad+np.outer((yi_pred - yi ), Xi_hat)\n",
    "        \n",
    "    return grad/N"
   ]
  },
  {
   "cell_type": "code",
   "execution_count": 7,
   "metadata": {},
   "outputs": [],
   "source": [
    "def grad_descent(X,y):\n",
    "    num_iters = 1000\n",
    "    alpha = 0.05\n",
    "    beta = np.zeros((unique_N,d+1))\n",
    "    \n",
    "    L_vals = np.zeros(num_iters)\n",
    "    for t in range(num_iters):\n",
    "        L_vals[t] = L(beta,X,y)\n",
    "        \n",
    "        #print('Iterations :',t,'objective function values : ', L_vals[t])\n",
    "            \n",
    "        beta = beta - alpha * L_grad(beta,X,y)\n",
    "    \n",
    "    return beta, L_vals"
   ]
  },
  {
   "cell_type": "code",
   "execution_count": 8,
   "metadata": {},
   "outputs": [],
   "source": [
    "beta, L_vals = grad_descent(X_train,y_train)"
   ]
  },
  {
   "cell_type": "code",
   "execution_count": 9,
   "metadata": {},
   "outputs": [],
   "source": [
    "#beta\n",
    "#L_vals"
   ]
  },
  {
   "cell_type": "code",
   "execution_count": 10,
   "metadata": {},
   "outputs": [
    {
     "data": {
      "text/plain": [
       "Text(0, 0.5, 'Values of Objective Function')"
      ]
     },
     "execution_count": 10,
     "metadata": {},
     "output_type": "execute_result"
    },
    {
     "data": {
      "image/png": "[encoded data removed]",
      "text/plain": [
       "<Figure size 432x288 with 1 Axes>"
      ]
     },
     "metadata": {
      "needs_background": "light"
     },
     "output_type": "display_data"
    }
   ],
   "source": [
    "plt.plot(L_vals, color= \"red\")\n",
    "plt.title(\"Objective Function of Training set vs.Iteration\")\n",
    "plt.xlabel('Iterations')\n",
    "plt.ylabel('Values of Objective Function')"
   ]
  },
  {
   "cell_type": "code",
   "execution_count": 11,
   "metadata": {},
   "outputs": [],
   "source": [
    "beta1, L_vals1 = grad_descent(X_test,y_test)"
   ]
  },
  {
   "cell_type": "code",
   "execution_count": 12,
   "metadata": {},
   "outputs": [
    {
     "data": {
      "text/plain": [
       "Text(0, 0.5, 'Values of Objective Function')"
      ]
     },
     "execution_count": 12,
     "metadata": {},
     "output_type": "execute_result"
    },
    {
     "data": {
      "image/png": "[encoded data removed]",
      "text/plain": [
       "<Figure size 432x288 with 1 Axes>"
      ]
     },
     "metadata": {
      "needs_background": "light"
     },
     "output_type": "display_data"
    }
   ],
   "source": [
    "plt.plot(L_vals1, color= \"blue\")\n",
    "plt.title(\"Objective Function of Validation set vs.Iteration\")\n",
    "plt.xlabel('Iterations')\n",
    "plt.ylabel('Values of Objective Function')"
   ]
  },
  {
   "cell_type": "code",
   "execution_count": 13,
   "metadata": {},
   "outputs": [],
   "source": [
    "def prediction_function(beta,X):\n",
    "    N = X.shape[0]\n",
    "    y_pred = []\n",
    "    \n",
    "    for i in range(N):\n",
    "        xiHat = X[i]\n",
    "        yi_pred = softmax_function(beta @ xiHat)\n",
    "        out = np.argmax(yi_pred)\n",
    "        y_pred.append(out)\n",
    "           \n",
    "    return np.round(y_pred)"
   ]
  },
  {
   "cell_type": "code",
   "execution_count": 14,
   "metadata": {},
   "outputs": [
    {
     "data": {
      "text/plain": [
       "array([2, 2, 1, 2, 2, 1, 2, 2, 1, 2, 2, 2, 2, 2, 1, 2, 2, 2, 1, 2, 1, 2,\n",
       "       2, 2, 2, 1, 2, 1, 2, 2])"
      ]
     },
     "execution_count": 14,
     "metadata": {},
     "output_type": "execute_result"
    }
   ],
   "source": [
    "prediction_function(beta,X_test)"
   ]
  },
  {
   "cell_type": "code",
   "execution_count": null,
   "metadata": {},
   "outputs": [],
   "source": []
  }
 ],
 "metadata": {
  "kernelspec": {
   "display_name": "Python 3",
   "language": "python",
   "name": "python3"
  },
  "language_info": {
   "codemirror_mode": {
    "name": "ipython",
    "version": 3
   },
   "file_extension": ".py",
   "mimetype": "text/x-python",
   "name": "python",
   "nbconvert_exporter": "python",
   "pygments_lexer": "ipython3",
   "version": "3.8.5"
  }
 },
 "nbformat": 4,
 "nbformat_minor": 4
}
