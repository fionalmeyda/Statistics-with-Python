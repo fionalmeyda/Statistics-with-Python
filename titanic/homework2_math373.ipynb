{
 "cells": [
  {
   "cell_type": "code",
   "execution_count": 163,
   "metadata": {},
   "outputs": [],
   "source": [
    "import numpy as np\n",
    "import matplotlib.pyplot as plt\n",
    "import sklearn as sk\n",
    "import sklearn.linear_model\n",
    "\n",
    "#import pandas to load csv data \n",
    "import pandas as pd\n"
   ]
  },
  {
   "cell_type": "code",
   "execution_count": 164,
   "metadata": {},
   "outputs": [],
   "source": [
    "data_directory = '/Users/fionalmeyda/Desktop/titanic/'\n",
    "\n",
    "#read_csv allows you to control delimeters, column and row names\n",
    "df_train = pd.read_csv(data_directory + 'train.csv')\n",
    "df_test = pd.read_csv(data_directory + 'test.csv')\n",
    "\n",
    "df_out =pd.read_csv(data_directory + 'gender_submission.csv')\n",
    "\n"
   ]
  },
  {
   "cell_type": "code",
   "execution_count": 165,
   "metadata": {},
   "outputs": [],
   "source": [
    "labels_train = df_train['Survived']\n",
    "#df_train"
   ]
  },
  {
   "cell_type": "code",
   "execution_count": 166,
   "metadata": {},
   "outputs": [],
   "source": [
    "median_age = df_train['Age'].median()\n",
    "#median_age\n",
    "\n",
    "median_fare =df_train['Fare'].median()"
   ]
  },
  {
   "cell_type": "code",
   "execution_count": 167,
   "metadata": {},
   "outputs": [],
   "source": [
    "def preprocessing(df):\n",
    "    df= df[['Age','Fare','Pclass']]\n",
    "    one_hot = pd.get_dummies(df['Pclass'])\n",
    "    df =df.drop(['Pclass'],axis =1)\n",
    "    df =df.join(one_hot)\n",
    "    #one hot encoding handles categorical data by allowing you to get probabilities from real numbers.\n",
    "    #this is achieved by giving each category a column (example : Pclass was separated into columns 1, 2 and 3)\n",
    "    \n",
    "    df['Age'].fillna(median_age,inplace =True)\n",
    "    df['Fare'].fillna(median_fare, inplace =True)\n",
    "    #In this case, we impute missing data by replacing them with the median. The missing data for age and fare were replaced by its respectful median.\n",
    "\n",
    "    return df\n",
    "\n",
    "#by adding and removing columns from the data we can improve accuracy."
   ]
  },
  {
   "cell_type": "code",
   "execution_count": 168,
   "metadata": {},
   "outputs": [],
   "source": [
    "df_train = preprocessing(df_train)\n",
    "df_test =preprocessing(df_test)"
   ]
  },
  {
   "cell_type": "code",
   "execution_count": 169,
   "metadata": {},
   "outputs": [],
   "source": [
    "#df_train.info()\n",
    "#df_test\n",
    "#df_train['Age']\n",
    "#df_test.head()"
   ]
  },
  {
   "cell_type": "code",
   "execution_count": 170,
   "metadata": {},
   "outputs": [],
   "source": [
    "model1 = sk.linear_model.LogisticRegression()"
   ]
  },
  {
   "cell_type": "code",
   "execution_count": 171,
   "metadata": {},
   "outputs": [
    {
     "data": {
      "text/plain": [
       "LogisticRegression()"
      ]
     },
     "execution_count": 171,
     "metadata": {},
     "output_type": "execute_result"
    }
   ],
   "source": [
    "model1.fit(df_train,labels_train)"
   ]
  },
  {
   "cell_type": "code",
   "execution_count": 172,
   "metadata": {},
   "outputs": [],
   "source": [
    "y_pred =model1.predict(df_test)"
   ]
  },
  {
   "cell_type": "code",
   "execution_count": 173,
   "metadata": {},
   "outputs": [],
   "source": [
    "#y_pred\n",
    "df_out['Survived'] = y_pred\n",
    "df_out.to_csv(data_directory + 'submission_kaggle.csv', index = False)"
   ]
  },
  {
   "cell_type": "code",
   "execution_count": null,
   "metadata": {},
   "outputs": [],
   "source": []
  }
 ],
 "metadata": {
  "kernelspec": {
   "display_name": "Python 3",
   "language": "python",
   "name": "python3"
  },
  "language_info": {
   "codemirror_mode": {
    "name": "ipython",
    "version": 3
   },
   "file_extension": ".py",
   "mimetype": "text/x-python",
   "name": "python",
   "nbconvert_exporter": "python",
   "pygments_lexer": "ipython3",
   "version": "3.8.5"
  }
 },
 "nbformat": 4,
 "nbformat_minor": 4
}
