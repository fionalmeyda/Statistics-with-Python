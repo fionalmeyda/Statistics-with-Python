{
 "cells": [
  {
   "cell_type": "markdown",
   "metadata": {},
   "source": [
    "# Project1"
   ]
  },
  {
   "cell_type": "markdown",
   "metadata": {},
   "source": [
    "#### Fiona Almeyda Wijaya"
   ]
  },
  {
   "cell_type": "code",
   "execution_count": 594,
   "metadata": {},
   "outputs": [],
   "source": [
    "import pandas as pd\n",
    "import numpy as np\n",
    "import matplotlib.pyplot as plt\n",
    "from sklearn.datasets import load_diabetes\n",
    "from sklearn.model_selection import train_test_split\n",
    "import seaborn as sns\n",
    "from sklearn import preprocessing"
   ]
  },
  {
   "cell_type": "markdown",
   "metadata": {},
   "source": [
    "## Binary Logistic Regression"
   ]
  },
  {
   "cell_type": "code",
   "execution_count": 595,
   "metadata": {},
   "outputs": [],
   "source": [
    "#load titanic data set\n",
    "data_directory = '/Users/fionalmeyda/Documents/GitHub/MATH373/Project1/'\n",
    "#read_csv allows you to control delimeters, column and row names\n",
    "df_train = pd.read_csv(data_directory + 'train.csv') #f(xi)\n",
    "df_test = pd.read_csv(data_directory + 'test.csv')\n",
    "df_out =pd.read_csv(data_directory + 'gender_submission.csv')\n",
    "yi = df_train['Survived'] #ground truth"
   ]
  },
  {
   "cell_type": "code",
   "execution_count": 596,
   "metadata": {},
   "outputs": [],
   "source": [
    "median_fare =df_train['Fare'].median()#median fare"
   ]
  },
  {
   "cell_type": "code",
   "execution_count": 597,
   "metadata": {},
   "outputs": [],
   "source": [
    "def fill_in(df):\n",
    "    df['Fare'].fillna(median_fare, inplace =True)\n",
    "    return df"
   ]
  },
  {
   "cell_type": "code",
   "execution_count": 598,
   "metadata": {},
   "outputs": [],
   "source": [
    "df_train =fill_in(df_train)\n",
    "df_test = fill_in(df_test)"
   ]
  },
  {
   "cell_type": "code",
   "execution_count": 599,
   "metadata": {},
   "outputs": [],
   "source": [
    "#Data \n",
    "#df_train.head()\n",
    "drop_cols= ['PassengerId','Survived','Pclass','Name','Sex','Age','SibSp','Parch','Ticket','Cabin','Embarked']\n",
    "drop_cols2 = ['PassengerId','Pclass','Name','Sex','Age','SibSp','Parch','Ticket','Fare','Cabin','Embarked']\n",
    "X = preprocessing.StandardScaler().fit_transform(df_train.drop(columns = drop_cols))\n",
    "y = df_train['Survived'].values\n",
    "X_test = preprocessing.StandardScaler().fit_transform(df_train.drop(columns = drop_cols2))\n",
    "X_train, X_test1, y_train, y_test1 = train_test_split(X, y, test_size=0.25, random_state =42)#Splitting the dataset into train & test"
   ]
  },
  {
   "cell_type": "code",
   "execution_count": 600,
   "metadata": {},
   "outputs": [],
   "source": [
    "xi_vals = X_train[:,0]\n",
    "yi_vals = y_train \n",
    "#X_train\n",
    "vector_one =np.ones(shape=y_train.shape)[..., None]\n",
    "Xi_hat =np.concatenate((vector_one, X_train), 1)\n",
    "\n",
    "validation_x = X_test1[:,0]\n",
    "validation_y =y_test1\n",
    "vector1 =np.ones(shape =y_test1.shape)[...,None]\n",
    "\n",
    "validation_set = np.concatenate((vector1, X_test1), 1)\n",
    "#validation_set"
   ]
  },
  {
   "cell_type": "code",
   "execution_count": 601,
   "metadata": {},
   "outputs": [],
   "source": [
    "#initialize beta\n",
    "Xi_hat.shape[0]\n",
    "t=669 #d+1\n",
    "beta = np.random.randn(t,2)\n"
   ]
  },
  {
   "cell_type": "code",
   "execution_count": 602,
   "metadata": {},
   "outputs": [],
   "source": [
    "#beta"
   ]
  },
  {
   "cell_type": "code",
   "execution_count": 603,
   "metadata": {},
   "outputs": [],
   "source": [
    "#f_xi_dot_beta = np.vdot(Xi_hat,beta)\n",
    "#f_xi = sigmoid_function\n",
    "Xi_hat_transpose = Xi_hat.T"
   ]
  },
  {
   "cell_type": "code",
   "execution_count": 604,
   "metadata": {},
   "outputs": [],
   "source": [
    "def dot_mat_fxi (b,x):\n",
    "    N= x.shape[0]\n",
    "    f =0\n",
    "    for i in range(N):\n",
    "        x1 =x[i]\n",
    "        beta =b[i]\n",
    "        f=np.vdot(x1,beta)\n",
    "    return f"
   ]
  },
  {
   "cell_type": "code",
   "execution_count": 605,
   "metadata": {},
   "outputs": [
    {
     "data": {
      "text/plain": [
       "-3.3965751647215603"
      ]
     },
     "execution_count": 605,
     "metadata": {},
     "output_type": "execute_result"
    }
   ],
   "source": [
    "f1 =dot_mat_fxi(beta,Xi_hat)\n",
    "q =sigmoid_function(f1) \n",
    "f1"
   ]
  },
  {
   "cell_type": "code",
   "execution_count": 606,
   "metadata": {},
   "outputs": [],
   "source": [
    "def cross_entropy_binary(p,q):\n",
    "    binary = -p*np.log(q)- ((1-p)*np.log(1-q))\n",
    "    return binary    "
   ]
  },
  {
   "cell_type": "code",
   "execution_count": 607,
   "metadata": {},
   "outputs": [],
   "source": [
    "l1 = cross_entropy_binary(yi_vals,q)\n",
    "#p =yi_vals"
   ]
  },
  {
   "cell_type": "code",
   "execution_count": 608,
   "metadata": {},
   "outputs": [],
   "source": [
    "def L(beta,x,y):\n",
    "    N = x.shape[0]\n",
    "    output =0\n",
    "    q = sigmoid_function(dot_mat_fxi(beta,x))\n",
    "    p = y\n",
    "    for i in range(N):\n",
    "        xi_hat = x[i]\n",
    "        yi = y[i]\n",
    "        output += cross_entropy_binary(y,q)\n",
    "        #print('test',output)\n",
    "        \n",
    "    output = sum(output)/N\n",
    "    return output"
   ]
  },
  {
   "cell_type": "code",
   "execution_count": 609,
   "metadata": {},
   "outputs": [],
   "source": [
    "testing =L(beta,Xi_hat, yi_vals)\n",
    "#testing.shape\n",
    "#testing"
   ]
  },
  {
   "cell_type": "code",
   "execution_count": 610,
   "metadata": {},
   "outputs": [],
   "source": [
    "def L_grad(beta,x,y):\n",
    "    N = x.shape[0]\n",
    "    grad= 0\n",
    "    q = sigmoid_function(dot_mat_fxi(beta,x))\n",
    "    p=y\n",
    "    for i in range(N):\n",
    "        xi_hat = x[i]\n",
    "        yi = y[i]\n",
    "        grad_i = (q - yi)* xi_hat\n",
    "        grad+=grad_i\n",
    "    return grad/N"
   ]
  },
  {
   "cell_type": "code",
   "execution_count": 611,
   "metadata": {},
   "outputs": [],
   "source": [
    "testing1 =L_grad(beta,Xi_hat,yi_vals)\n",
    "#testing1\n",
    "#testing1.shape"
   ]
  },
  {
   "cell_type": "code",
   "execution_count": 612,
   "metadata": {},
   "outputs": [],
   "source": [
    "def minimizing_grad_desc(x,y):\n",
    "    alpha =0.005\n",
    "    num_iters =1000\n",
    "    L_vals = np.zeros(num_iters)\n",
    "    beta_t = np.zeros(x.shape)\n",
    "    for t in range(num_iters):\n",
    "        L_vals[t]= L(beta_t,x,y)\n",
    "        #print('Iterations : ',t,'objective function values : ', L_vals[t])\n",
    "        beta_t =beta_t - alpha * L_grad(beta_t,x,y)\n",
    "    return beta_t,L_vals"
   ]
  },
  {
   "cell_type": "code",
   "execution_count": 613,
   "metadata": {},
   "outputs": [],
   "source": [
    "beta_est , L_vals = minimizing_grad_desc(Xi_hat, yi_vals)"
   ]
  },
  {
   "cell_type": "code",
   "execution_count": 614,
   "metadata": {},
   "outputs": [
    {
     "data": {
      "text/plain": [
       "Text(0, 0.5, 'Values of Objective Function')"
      ]
     },
     "execution_count": 614,
     "metadata": {},
     "output_type": "execute_result"
    },
    {
     "data": {
      "image/png": "[encoded data removed]",
      "text/plain": [
       "<Figure size 432x288 with 1 Axes>"
      ]
     },
     "metadata": {
      "needs_background": "light"
     },
     "output_type": "display_data"
    }
   ],
   "source": [
    "plt.plot(L_vals, color= \"red\")\n",
    "plt.title(\"Objective Function of Training set vs.Iteration\")\n",
    "plt.xlabel('Iterations')\n",
    "plt.ylabel('Values of Objective Function')"
   ]
  },
  {
   "cell_type": "code",
   "execution_count": 615,
   "metadata": {},
   "outputs": [
    {
     "data": {
      "text/plain": [
       "array([-0.59398515,  0.63631905])"
      ]
     },
     "execution_count": 615,
     "metadata": {},
     "output_type": "execute_result"
    }
   ],
   "source": [
    "beta_est[0]"
   ]
  },
  {
   "cell_type": "code",
   "execution_count": 616,
   "metadata": {},
   "outputs": [],
   "source": [
    "beta_est1 , L_vals1 = minimizing_grad_desc(validation_set, validation_y)"
   ]
  },
  {
   "cell_type": "code",
   "execution_count": 617,
   "metadata": {},
   "outputs": [
    {
     "data": {
      "text/plain": [
       "Text(0, 0.5, 'Values of Objective Function')"
      ]
     },
     "execution_count": 617,
     "metadata": {},
     "output_type": "execute_result"
    },
    {
     "data": {
      "image/png": "[encoded data removed]",
      "text/plain": [
       "<Figure size 432x288 with 1 Axes>"
      ]
     },
     "metadata": {
      "needs_background": "light"
     },
     "output_type": "display_data"
    }
   ],
   "source": [
    "plt.plot(L_vals1, color= \"blue\")\n",
    "plt.title(\"Objective Function of Validation set vs.Iteration\")\n",
    "plt.xlabel('Iterations')\n",
    "plt.ylabel('Values of Objective Function')"
   ]
  },
  {
   "cell_type": "code",
   "execution_count": 618,
   "metadata": {},
   "outputs": [
    {
     "data": {
      "text/plain": [
       "array([-0.22790936,  0.59414876])"
      ]
     },
     "execution_count": 618,
     "metadata": {},
     "output_type": "execute_result"
    }
   ],
   "source": [
    "beta_est1[0]"
   ]
  },
  {
   "cell_type": "code",
   "execution_count": 619,
   "metadata": {},
   "outputs": [],
   "source": [
    "df_out.to_csv(data_directory + 'submit_kaggle.csv', index = False)"
   ]
  },
  {
   "cell_type": "code",
   "execution_count": null,
   "metadata": {},
   "outputs": [],
   "source": []
  },
  {
   "cell_type": "code",
   "execution_count": null,
   "metadata": {},
   "outputs": [],
   "source": []
  }
 ],
 "metadata": {
  "kernelspec": {
   "display_name": "Python 3",
   "language": "python",
   "name": "python3"
  },
  "language_info": {
   "codemirror_mode": {
    "name": "ipython",
    "version": 3
   },
   "file_extension": ".py",
   "mimetype": "text/x-python",
   "name": "python",
   "nbconvert_exporter": "python",
   "pygments_lexer": "ipython3",
   "version": "3.8.5"
  }
 },
 "nbformat": 4,
 "nbformat_minor": 4
}
